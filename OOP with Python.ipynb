{
 "cells": [
  {
   "cell_type": "code",
   "execution_count": null,
   "id": "be3be28a",
   "metadata": {},
   "outputs": [],
   "source": []
  },
  {
   "cell_type": "markdown",
   "id": "b9314ed2",
   "metadata": {},
   "source": [
    "->Creating simple class and creating object"
   ]
  },
  {
   "cell_type": "code",
   "execution_count": 4,
   "id": "50caa67b",
   "metadata": {},
   "outputs": [
    {
     "name": "stdout",
     "output_type": "stream",
     "text": [
      "i5 256SSD 8GB\n",
      "i5 256SSD 8GB\n",
      "<class '__main__.computer'>\n"
     ]
    }
   ],
   "source": [
    "class computer:\n",
    "    \n",
    "    def config(self):\n",
    "        \n",
    "        print(\"i5\",\"256SSD\",\"8GB\")\n",
    "        \n",
    "        \n",
    "comp1=computer()\n",
    "\n",
    "comp2=computer()\n",
    "\n",
    "comp1.config()    #computer.config(comp1)\n",
    "comp2.config()    #computer.config(comp2)\n",
    "\n",
    "\n",
    "print(type(comp1))"
   ]
  },
  {
   "cell_type": "code",
   "execution_count": null,
   "id": "91133179",
   "metadata": {},
   "outputs": [],
   "source": []
  }
 ],
 "metadata": {
  "kernelspec": {
   "display_name": "Python 3 (ipykernel)",
   "language": "python",
   "name": "python3"
  },
  "language_info": {
   "codemirror_mode": {
    "name": "ipython",
    "version": 3
   },
   "file_extension": ".py",
   "mimetype": "text/x-python",
   "name": "python",
   "nbconvert_exporter": "python",
   "pygments_lexer": "ipython3",
   "version": "3.9.12"
  }
 },
 "nbformat": 4,
 "nbformat_minor": 5
}
