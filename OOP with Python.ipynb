{
 "cells": [
  {
   "cell_type": "code",
   "execution_count": null,
   "id": "be3be28a",
   "metadata": {},
   "outputs": [],
   "source": []
  },
  {
   "cell_type": "markdown",
   "id": "b9314ed2",
   "metadata": {},
   "source": [
    "->Creating simple class and creating object"
   ]
  },
  {
   "cell_type": "code",
   "execution_count": 4,
   "id": "50caa67b",
   "metadata": {},
   "outputs": [
    {
     "name": "stdout",
     "output_type": "stream",
     "text": [
      "i5 256SSD 8GB\n",
      "i5 256SSD 8GB\n",
      "<class '__main__.computer'>\n"
     ]
    }
   ],
   "source": [
    "class computer:\n",
    "    \n",
    "    def config(self):\n",
    "        \n",
    "        print(\"i5\",\"256SSD\",\"8GB\")\n",
    "        \n",
    "        \n",
    "comp1=computer()\n",
    "\n",
    "comp2=computer()\n",
    "\n",
    "comp1.config()    #computer.config(comp1)\n",
    "comp2.config()    #computer.config(comp2)\n",
    "\n",
    "\n",
    "print(type(comp1))"
   ]
  },
  {
   "cell_type": "markdown",
   "id": "3af8fb25",
   "metadata": {},
   "source": [
    "-> Constructor in  the Python"
   ]
  },
  {
   "cell_type": "code",
   "execution_count": 6,
   "id": "ea87cf93",
   "metadata": {},
   "outputs": [
    {
     "name": "stdout",
     "output_type": "stream",
     "text": [
      "Configuration is as :\n",
      "Intel 8GB\n",
      "Configuration is as :\n",
      "Ryzen 16GB\n"
     ]
    }
   ],
   "source": [
    "class computer:\n",
    "    \n",
    "    def __init__(self,cpu,ram):\n",
    "        self.cpu=cpu\n",
    "        self.ram=ram\n",
    "        print(\"Configuration is as :\")\n",
    "    \n",
    "    def config(self):\n",
    "        \n",
    "        print(self.cpu,self.ram)\n",
    "      \n",
    "        \n",
    "        \n",
    "        \n",
    "comp1=computer(\"Intel\",\"8GB\")\n",
    "comp1.config()\n",
    "\n",
    "comp2=computer(\"Ryzen\",\"16GB\")\n",
    "comp2.config()\n",
    "\n"
   ]
  },
  {
   "cell_type": "code",
   "execution_count": 8,
   "id": "a70e621b",
   "metadata": {},
   "outputs": [
    {
     "name": "stdout",
     "output_type": "stream",
     "text": [
      "6\n",
      "Rahul\n"
     ]
    }
   ],
   "source": [
    "class student:\n",
    "   \n",
    "    id=6                         #class variable a\n",
    "    \n",
    "    def __init__(self):\n",
    "        self.name=\"Rahul\"            #instance variable valid only for that instance\n",
    "        self.Fees_paid=True\n",
    "      \n",
    " \n",
    "    \n",
    "s1=student()\n",
    "print(s1.id)\n",
    "\n",
    "s2=student()\n",
    "print(s2.name)\n",
    "\n"
   ]
  },
  {
   "cell_type": "code",
   "execution_count": null,
   "id": "8b718e19",
   "metadata": {},
   "outputs": [],
   "source": []
  }
 ],
 "metadata": {
  "kernelspec": {
   "display_name": "Python 3 (ipykernel)",
   "language": "python",
   "name": "python3"
  },
  "language_info": {
   "codemirror_mode": {
    "name": "ipython",
    "version": 3
   },
   "file_extension": ".py",
   "mimetype": "text/x-python",
   "name": "python",
   "nbconvert_exporter": "python",
   "pygments_lexer": "ipython3",
   "version": "3.9.12"
  }
 },
 "nbformat": 4,
 "nbformat_minor": 5
}
